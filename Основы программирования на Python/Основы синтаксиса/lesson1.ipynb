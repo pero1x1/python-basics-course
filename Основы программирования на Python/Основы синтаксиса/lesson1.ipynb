{
 "cells": [
  {
   "cell_type": "markdown",
   "id": "b9b41c29",
   "metadata": {},
   "source": [
    "Задание 1 "
   ]
  },
  {
   "cell_type": "code",
   "execution_count": 2,
   "id": "36723ea8",
   "metadata": {},
   "outputs": [
    {
     "name": "stdout",
     "output_type": "stream",
     "text": [
      "тест\n"
     ]
    }
   ],
   "source": [
    "print('тест')"
   ]
  }
 ],
 "metadata": {
  "kernelspec": {
   "display_name": "base",
   "language": "python",
   "name": "python3"
  },
  "language_info": {
   "codemirror_mode": {
    "name": "ipython",
    "version": 3
   },
   "file_extension": ".py",
   "mimetype": "text/x-python",
   "name": "python",
   "nbconvert_exporter": "python",
   "pygments_lexer": "ipython3",
   "version": "3.12.4"
  }
 },
 "nbformat": 4,
 "nbformat_minor": 5
}
